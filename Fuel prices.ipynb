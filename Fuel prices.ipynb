{
 "cells": [
  {
   "cell_type": "code",
   "execution_count": 8,
   "metadata": {},
   "outputs": [],
   "source": [
    "import pandas as pd\n",
    "pd.plotting.register_matplotlib_converters()\n",
    "import matplotlib.pyplot as plt\n",
    "%matplotlib inline\n",
    "import seaborn as sns"
   ]
  },
  {
   "cell_type": "code",
   "execution_count": 9,
   "metadata": {},
   "outputs": [
    {
     "data": {
      "text/html": [
       "<div>\n",
       "<style scoped>\n",
       "    .dataframe tbody tr th:only-of-type {\n",
       "        vertical-align: middle;\n",
       "    }\n",
       "\n",
       "    .dataframe tbody tr th {\n",
       "        vertical-align: top;\n",
       "    }\n",
       "\n",
       "    .dataframe thead th {\n",
       "        text-align: right;\n",
       "    }\n",
       "</style>\n",
       "<table border=\"1\" class=\"dataframe\">\n",
       "  <thead>\n",
       "    <tr style=\"text-align: right;\">\n",
       "      <th></th>\n",
       "      <th>ULSP Pump price in pence/litre</th>\n",
       "      <th>ULSD Pump price in pence/litre</th>\n",
       "      <th>ULSP Duty rate in pence/litre</th>\n",
       "      <th>ULSD Duty rate in pence/litre</th>\n",
       "      <th>ULSP VAT percentage rate</th>\n",
       "      <th>ULSD VAT percentage rate</th>\n",
       "    </tr>\n",
       "    <tr>\n",
       "      <th>Date</th>\n",
       "      <th></th>\n",
       "      <th></th>\n",
       "      <th></th>\n",
       "      <th></th>\n",
       "      <th></th>\n",
       "      <th></th>\n",
       "    </tr>\n",
       "  </thead>\n",
       "  <tbody>\n",
       "    <tr>\n",
       "      <th>2003-06-09</th>\n",
       "      <td>74.59</td>\n",
       "      <td>76.77</td>\n",
       "      <td>45.82</td>\n",
       "      <td>45.82</td>\n",
       "      <td>17.5</td>\n",
       "      <td>17.5</td>\n",
       "    </tr>\n",
       "    <tr>\n",
       "      <th>2003-06-16</th>\n",
       "      <td>74.47</td>\n",
       "      <td>76.69</td>\n",
       "      <td>45.82</td>\n",
       "      <td>45.82</td>\n",
       "      <td>17.5</td>\n",
       "      <td>17.5</td>\n",
       "    </tr>\n",
       "    <tr>\n",
       "      <th>2003-06-23</th>\n",
       "      <td>74.42</td>\n",
       "      <td>76.62</td>\n",
       "      <td>45.82</td>\n",
       "      <td>45.82</td>\n",
       "      <td>17.5</td>\n",
       "      <td>17.5</td>\n",
       "    </tr>\n",
       "    <tr>\n",
       "      <th>2003-06-30</th>\n",
       "      <td>74.35</td>\n",
       "      <td>76.51</td>\n",
       "      <td>45.82</td>\n",
       "      <td>45.82</td>\n",
       "      <td>17.5</td>\n",
       "      <td>17.5</td>\n",
       "    </tr>\n",
       "    <tr>\n",
       "      <th>2003-07-07</th>\n",
       "      <td>74.28</td>\n",
       "      <td>76.46</td>\n",
       "      <td>45.82</td>\n",
       "      <td>45.82</td>\n",
       "      <td>17.5</td>\n",
       "      <td>17.5</td>\n",
       "    </tr>\n",
       "  </tbody>\n",
       "</table>\n",
       "</div>"
      ],
      "text/plain": [
       "            ULSP Pump price in pence/litre  ULSD Pump price in pence/litre  \\\n",
       "Date                                                                         \n",
       "2003-06-09                           74.59                           76.77   \n",
       "2003-06-16                           74.47                           76.69   \n",
       "2003-06-23                           74.42                           76.62   \n",
       "2003-06-30                           74.35                           76.51   \n",
       "2003-07-07                           74.28                           76.46   \n",
       "\n",
       "            ULSP Duty rate in pence/litre  ULSD Duty rate in pence/litre  \\\n",
       "Date                                                                       \n",
       "2003-06-09                          45.82                          45.82   \n",
       "2003-06-16                          45.82                          45.82   \n",
       "2003-06-23                          45.82                          45.82   \n",
       "2003-06-30                          45.82                          45.82   \n",
       "2003-07-07                          45.82                          45.82   \n",
       "\n",
       "            ULSP VAT percentage rate  ULSD VAT percentage rate  \n",
       "Date                                                            \n",
       "2003-06-09                      17.5                      17.5  \n",
       "2003-06-16                      17.5                      17.5  \n",
       "2003-06-23                      17.5                      17.5  \n",
       "2003-06-30                      17.5                      17.5  \n",
       "2003-07-07                      17.5                      17.5  "
      ]
     },
     "execution_count": 9,
     "metadata": {},
     "output_type": "execute_result"
    }
   ],
   "source": [
    "fuel_prices_filepath = \"fuel_prices.csv\"\n",
    "\n",
    "fuel_data = pd.read_csv(fuel_prices_filepath, index_col=\"Date\", parse_dates=True)\n",
    "\n",
    "fuel_data.head()"
   ]
  },
  {
   "cell_type": "code",
   "execution_count": 10,
   "metadata": {},
   "outputs": [
    {
     "data": {
      "text/html": [
       "<div>\n",
       "<style scoped>\n",
       "    .dataframe tbody tr th:only-of-type {\n",
       "        vertical-align: middle;\n",
       "    }\n",
       "\n",
       "    .dataframe tbody tr th {\n",
       "        vertical-align: top;\n",
       "    }\n",
       "\n",
       "    .dataframe thead th {\n",
       "        text-align: right;\n",
       "    }\n",
       "</style>\n",
       "<table border=\"1\" class=\"dataframe\">\n",
       "  <thead>\n",
       "    <tr style=\"text-align: right;\">\n",
       "      <th></th>\n",
       "      <th>ULSP Pump price in pence/litre</th>\n",
       "      <th>ULSD Pump price in pence/litre</th>\n",
       "      <th>ULSP Duty rate in pence/litre</th>\n",
       "      <th>ULSD Duty rate in pence/litre</th>\n",
       "      <th>ULSP VAT percentage rate</th>\n",
       "      <th>ULSD VAT percentage rate</th>\n",
       "    </tr>\n",
       "    <tr>\n",
       "      <th>Date</th>\n",
       "      <th></th>\n",
       "      <th></th>\n",
       "      <th></th>\n",
       "      <th></th>\n",
       "      <th></th>\n",
       "      <th></th>\n",
       "    </tr>\n",
       "  </thead>\n",
       "  <tbody>\n",
       "    <tr>\n",
       "      <th>2020-06-08</th>\n",
       "      <td>105.74</td>\n",
       "      <td>111.98</td>\n",
       "      <td>57.95</td>\n",
       "      <td>57.95</td>\n",
       "      <td>20.0</td>\n",
       "      <td>20.0</td>\n",
       "    </tr>\n",
       "    <tr>\n",
       "      <th>2020-06-15</th>\n",
       "      <td>106.37</td>\n",
       "      <td>112.53</td>\n",
       "      <td>57.95</td>\n",
       "      <td>57.95</td>\n",
       "      <td>20.0</td>\n",
       "      <td>20.0</td>\n",
       "    </tr>\n",
       "    <tr>\n",
       "      <th>2020-06-22</th>\n",
       "      <td>107.13</td>\n",
       "      <td>112.98</td>\n",
       "      <td>57.95</td>\n",
       "      <td>57.95</td>\n",
       "      <td>20.0</td>\n",
       "      <td>20.0</td>\n",
       "    </tr>\n",
       "    <tr>\n",
       "      <th>2020-06-29</th>\n",
       "      <td>108.31</td>\n",
       "      <td>114.10</td>\n",
       "      <td>57.95</td>\n",
       "      <td>57.95</td>\n",
       "      <td>20.0</td>\n",
       "      <td>20.0</td>\n",
       "    </tr>\n",
       "    <tr>\n",
       "      <th>2020-07-06</th>\n",
       "      <td>109.43</td>\n",
       "      <td>115.05</td>\n",
       "      <td>57.95</td>\n",
       "      <td>57.95</td>\n",
       "      <td>20.0</td>\n",
       "      <td>20.0</td>\n",
       "    </tr>\n",
       "  </tbody>\n",
       "</table>\n",
       "</div>"
      ],
      "text/plain": [
       "            ULSP Pump price in pence/litre  ULSD Pump price in pence/litre  \\\n",
       "Date                                                                         \n",
       "2020-06-08                          105.74                          111.98   \n",
       "2020-06-15                          106.37                          112.53   \n",
       "2020-06-22                          107.13                          112.98   \n",
       "2020-06-29                          108.31                          114.10   \n",
       "2020-07-06                          109.43                          115.05   \n",
       "\n",
       "            ULSP Duty rate in pence/litre  ULSD Duty rate in pence/litre  \\\n",
       "Date                                                                       \n",
       "2020-06-08                          57.95                          57.95   \n",
       "2020-06-15                          57.95                          57.95   \n",
       "2020-06-22                          57.95                          57.95   \n",
       "2020-06-29                          57.95                          57.95   \n",
       "2020-07-06                          57.95                          57.95   \n",
       "\n",
       "            ULSP VAT percentage rate  ULSD VAT percentage rate  \n",
       "Date                                                            \n",
       "2020-06-08                      20.0                      20.0  \n",
       "2020-06-15                      20.0                      20.0  \n",
       "2020-06-22                      20.0                      20.0  \n",
       "2020-06-29                      20.0                      20.0  \n",
       "2020-07-06                      20.0                      20.0  "
      ]
     },
     "execution_count": 10,
     "metadata": {},
     "output_type": "execute_result"
    }
   ],
   "source": [
    "fuel_data.tail()"
   ]
  },
  {
   "cell_type": "code",
   "execution_count": 14,
   "metadata": {},
   "outputs": [
    {
     "data": {
      "text/plain": [
       "<matplotlib.axes._subplots.AxesSubplot at 0x18b9741f2c8>"
      ]
     },
     "execution_count": 14,
     "metadata": {},
     "output_type": "execute_result"
    },
    {
     "data": {
      "image/png": "[encoded data removed]",
      "text/plain": [
       "<Figure size 432x288 with 1 Axes>"
      ]
     },
     "metadata": {
      "needs_background": "light"
     },
     "output_type": "display_data"
    }
   ],
   "source": [
    "sns.lineplot(data=fuel_data)"
   ]
  },
  {
   "cell_type": "code",
   "execution_count": null,
   "metadata": {},
   "outputs": [],
   "source": []
  }
 ],
 "metadata": {
  "kernelspec": {
   "display_name": "Python 3",
   "language": "python",
   "name": "python3"
  },
  "language_info": {
   "codemirror_mode": {
    "name": "ipython",
    "version": 3
   },
   "file_extension": ".py",
   "mimetype": "text/x-python",
   "name": "python",
   "nbconvert_exporter": "python",
   "pygments_lexer": "ipython3",
   "version": "3.7.6"
  }
 },
 "nbformat": 4,
 "nbformat_minor": 4
}
